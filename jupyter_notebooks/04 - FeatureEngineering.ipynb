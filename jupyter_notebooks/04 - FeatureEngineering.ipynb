{
  "cells": [
    {
      "cell_type": "markdown",
      "metadata": {
        "id": "0aStgWSO0E0E"
      },
      "source": [
        "# **Feature Engineering**"
      ]
    },
    {
      "cell_type": "markdown",
      "metadata": {
        "id": "1eLEkw5O0ECa"
      },
      "source": [
        "## Objectives\n",
        "\n",
        "* Engineer new features from the existing dataset to improve model performance.\n",
        "## Inputs\n",
        "\n",
        "* output/datasets/collection/insurance.csv\n",
        "\n",
        "## Outputs\n",
        "\n",
        "* Processed train and test datasets with new features added. \n",
        "\n"
      ]
    },
    {
      "cell_type": "markdown",
      "metadata": {
        "id": "9uWZXH9LwoQg"
      },
      "source": [
        "---"
      ]
    },
    {
      "cell_type": "markdown",
      "metadata": {
        "id": "cqP-UeN-z3i2"
      },
      "source": [
        "# Change working directory"
      ]
    },
    {
      "cell_type": "markdown",
      "metadata": {},
      "source": [
        "* We are assuming you will store the notebooks in a subfolder, therefore when running the notebook in the editor, you will need to change the working directory"
      ]
    },
    {
      "cell_type": "markdown",
      "metadata": {
        "id": "aOGIGS-uz3i2"
      },
      "source": [
        "We need to change the working directory from its current folder to its parent folder\n",
        "* We access the current directory with os.getcwd()"
      ]
    },
    {
      "cell_type": "code",
      "execution_count": 1,
      "metadata": {
        "id": "wZfF_j-Bz3i4",
        "outputId": "66943449-1436-4c3d-85c7-b85f9f78349b"
      },
      "outputs": [
        {
          "data": {
            "text/plain": [
              "'/workspaces/medical-insurance-prediction/jupyter_notebooks'"
            ]
          },
          "execution_count": 1,
          "metadata": {},
          "output_type": "execute_result"
        }
      ],
      "source": [
        "import os\n",
        "current_dir = os.getcwd()\n",
        "current_dir"
      ]
    },
    {
      "cell_type": "markdown",
      "metadata": {
        "id": "9MWW8E7lz3i7"
      },
      "source": [
        "We want to make the parent of the current directory the new current directory\n",
        "* os.path.dirname() gets the parent directory\n",
        "* os.chir() defines the new current directory"
      ]
    },
    {
      "cell_type": "code",
      "execution_count": 2,
      "metadata": {
        "id": "TwHsQRWjz3i9",
        "outputId": "86849db3-cd2f-4cc5-ebb8-2d0caafa1a2c"
      },
      "outputs": [
        {
          "name": "stdout",
          "output_type": "stream",
          "text": [
            "You set a new current directory\n"
          ]
        }
      ],
      "source": [
        "os.chdir(os.path.dirname(current_dir))\n",
        "print(\"You set a new current directory\")"
      ]
    },
    {
      "cell_type": "markdown",
      "metadata": {
        "id": "M_xPk_Ijz3i-"
      },
      "source": [
        "Confirm the new current directory"
      ]
    },
    {
      "cell_type": "code",
      "execution_count": 3,
      "metadata": {
        "id": "vz3S-_kjz3jA",
        "outputId": "00b79ae4-75d0-4a96-d193-ac9ef9847ea2"
      },
      "outputs": [
        {
          "data": {
            "text/plain": [
              "'/workspaces/medical-insurance-prediction'"
            ]
          },
          "execution_count": 3,
          "metadata": {},
          "output_type": "execute_result"
        }
      ],
      "source": [
        "current_dir = os.getcwd()\n",
        "current_dir"
      ]
    },
    {
      "cell_type": "markdown",
      "metadata": {
        "id": "-mavJ8DibrcQ"
      },
      "source": [
        "# Load Dataset\n"
      ]
    },
    {
      "cell_type": "code",
      "execution_count": 4,
      "metadata": {},
      "outputs": [
        {
          "data": {
            "text/html": [
              "<div>\n",
              "<style scoped>\n",
              "    .dataframe tbody tr th:only-of-type {\n",
              "        vertical-align: middle;\n",
              "    }\n",
              "\n",
              "    .dataframe tbody tr th {\n",
              "        vertical-align: top;\n",
              "    }\n",
              "\n",
              "    .dataframe thead th {\n",
              "        text-align: right;\n",
              "    }\n",
              "</style>\n",
              "<table border=\"1\" class=\"dataframe\">\n",
              "  <thead>\n",
              "    <tr style=\"text-align: right;\">\n",
              "      <th></th>\n",
              "      <th>age</th>\n",
              "      <th>sex</th>\n",
              "      <th>bmi</th>\n",
              "      <th>children</th>\n",
              "      <th>smoker</th>\n",
              "      <th>region</th>\n",
              "      <th>charges</th>\n",
              "    </tr>\n",
              "  </thead>\n",
              "  <tbody>\n",
              "    <tr>\n",
              "      <th>0</th>\n",
              "      <td>19</td>\n",
              "      <td>female</td>\n",
              "      <td>27.900</td>\n",
              "      <td>0</td>\n",
              "      <td>yes</td>\n",
              "      <td>southwest</td>\n",
              "      <td>16884.92400</td>\n",
              "    </tr>\n",
              "    <tr>\n",
              "      <th>1</th>\n",
              "      <td>18</td>\n",
              "      <td>male</td>\n",
              "      <td>33.770</td>\n",
              "      <td>1</td>\n",
              "      <td>no</td>\n",
              "      <td>southeast</td>\n",
              "      <td>1725.55230</td>\n",
              "    </tr>\n",
              "    <tr>\n",
              "      <th>2</th>\n",
              "      <td>28</td>\n",
              "      <td>male</td>\n",
              "      <td>33.000</td>\n",
              "      <td>3</td>\n",
              "      <td>no</td>\n",
              "      <td>southeast</td>\n",
              "      <td>4449.46200</td>\n",
              "    </tr>\n",
              "    <tr>\n",
              "      <th>3</th>\n",
              "      <td>33</td>\n",
              "      <td>male</td>\n",
              "      <td>22.705</td>\n",
              "      <td>0</td>\n",
              "      <td>no</td>\n",
              "      <td>northwest</td>\n",
              "      <td>21984.47061</td>\n",
              "    </tr>\n",
              "    <tr>\n",
              "      <th>4</th>\n",
              "      <td>32</td>\n",
              "      <td>male</td>\n",
              "      <td>28.880</td>\n",
              "      <td>0</td>\n",
              "      <td>no</td>\n",
              "      <td>northwest</td>\n",
              "      <td>3866.85520</td>\n",
              "    </tr>\n",
              "    <tr>\n",
              "      <th>5</th>\n",
              "      <td>31</td>\n",
              "      <td>female</td>\n",
              "      <td>25.740</td>\n",
              "      <td>0</td>\n",
              "      <td>no</td>\n",
              "      <td>southeast</td>\n",
              "      <td>3756.62160</td>\n",
              "    </tr>\n",
              "    <tr>\n",
              "      <th>6</th>\n",
              "      <td>46</td>\n",
              "      <td>female</td>\n",
              "      <td>33.440</td>\n",
              "      <td>1</td>\n",
              "      <td>no</td>\n",
              "      <td>southeast</td>\n",
              "      <td>8240.58960</td>\n",
              "    </tr>\n",
              "    <tr>\n",
              "      <th>7</th>\n",
              "      <td>37</td>\n",
              "      <td>female</td>\n",
              "      <td>27.740</td>\n",
              "      <td>3</td>\n",
              "      <td>no</td>\n",
              "      <td>northwest</td>\n",
              "      <td>7281.50560</td>\n",
              "    </tr>\n",
              "    <tr>\n",
              "      <th>8</th>\n",
              "      <td>37</td>\n",
              "      <td>male</td>\n",
              "      <td>29.830</td>\n",
              "      <td>2</td>\n",
              "      <td>no</td>\n",
              "      <td>northeast</td>\n",
              "      <td>6406.41070</td>\n",
              "    </tr>\n",
              "    <tr>\n",
              "      <th>9</th>\n",
              "      <td>60</td>\n",
              "      <td>female</td>\n",
              "      <td>25.840</td>\n",
              "      <td>0</td>\n",
              "      <td>no</td>\n",
              "      <td>northwest</td>\n",
              "      <td>28923.13692</td>\n",
              "    </tr>\n",
              "  </tbody>\n",
              "</table>\n",
              "</div>"
            ],
            "text/plain": [
              "   age     sex     bmi  children smoker     region      charges\n",
              "0   19  female  27.900         0    yes  southwest  16884.92400\n",
              "1   18    male  33.770         1     no  southeast   1725.55230\n",
              "2   28    male  33.000         3     no  southeast   4449.46200\n",
              "3   33    male  22.705         0     no  northwest  21984.47061\n",
              "4   32    male  28.880         0     no  northwest   3866.85520\n",
              "5   31  female  25.740         0     no  southeast   3756.62160\n",
              "6   46  female  33.440         1     no  southeast   8240.58960\n",
              "7   37  female  27.740         3     no  northwest   7281.50560\n",
              "8   37    male  29.830         2     no  northeast   6406.41070\n",
              "9   60  female  25.840         0     no  northwest  28923.13692"
            ]
          },
          "execution_count": 4,
          "metadata": {},
          "output_type": "execute_result"
        }
      ],
      "source": [
        "import pandas as pd\n",
        "df_raw_path = \"outputs/datasets/cleaned/insurance_cleaned.csv\"\n",
        "df = pd.read_csv(df_raw_path)\n",
        "df.head(10)\n"
      ]
    },
    {
      "cell_type": "markdown",
      "metadata": {
        "id": "ZY3l0-AxO93d"
      },
      "source": [
        "---"
      ]
    },
    {
      "cell_type": "markdown",
      "metadata": {
        "id": "uFQo3ycuO-v6"
      },
      "source": [
        "# Feature Engineering"
      ]
    },
    {
      "cell_type": "markdown",
      "metadata": {},
      "source": [
        "We will enconde and create new features based on the existing ones to enhance the model's predictive power."
      ]
    },
    {
      "cell_type": "code",
      "execution_count": 8,
      "metadata": {},
      "outputs": [],
      "source": [
        "import pandas as pd\n",
        "import numpy as np\n",
        "from sklearn.preprocessing import LabelEncoder, StandardScaler\n",
        "\n",
        "def prepare_features_for_modeling(df):\n",
        "    \"\"\"\n",
        "    Performs feature engineering, encoding, and scaling for the insurance dataset.\n",
        "    \n",
        "    Parameters:\n",
        "    - df (pd.DataFrame): Raw insurance dataset\n",
        "    \n",
        "    Returns:\n",
        "    - df_processed (pd.DataFrame): Processed DataFrame ready for ML modeling\n",
        "    \"\"\"\n",
        "    df = df.copy()\n",
        "\n",
        "    # ===== Feature Engineering =====\n",
        "    df['age_squared'] = df['age'] ** 2\n",
        "    df['age_group'] = pd.cut(df['age'], bins=[0, 25, 35, 50, 65],\n",
        "                             labels=['Young', 'Adult', 'Middle-aged', 'Senior'])\n",
        "\n",
        "    df['bmi_class'] = pd.cut(df['bmi'], bins=[0, 18.5, 24.9, 29.9, float('inf')],\n",
        "                             labels=['Underweight', 'Normal', 'Overweight', 'Obese'])\n",
        "    df['is_overweight'] = (df['bmi'] >= 25).astype(int)\n",
        "\n",
        "    df['smoker_flag'] = (df['smoker'] == 'yes').astype(int)\n",
        "    df['smoker_bmi_risk'] = df['smoker_flag'] * df['bmi']\n",
        "    df['age_bmi_risk'] = df['age'] * df['bmi'] / 100\n",
        "\n",
        "    # ===== Risk Score =====\n",
        "    def calculate_risk_score(row):\n",
        "        score = 0\n",
        "        if row['smoker'] == 'yes':\n",
        "            score += 50\n",
        "        if row['bmi'] >= 30:\n",
        "            score += 30\n",
        "        elif row['bmi'] >= 25:\n",
        "            score += 15\n",
        "        if row['age'] >= 50:\n",
        "            score += 25\n",
        "        elif row['age'] >= 35:\n",
        "            score += 15\n",
        "        score += row['children'] * 5\n",
        "        return score\n",
        "\n",
        "    df['risk_score'] = df.apply(calculate_risk_score, axis=1)\n",
        "\n",
        "    # ===== Encoding =====\n",
        "    le = LabelEncoder()\n",
        "    df['sex_encoded'] = le.fit_transform(df['sex'])\n",
        "    df['smoker_encoded'] = le.fit_transform(df['smoker'])\n",
        "\n",
        "    df = pd.get_dummies(df, columns=['region', 'age_group', 'bmi_class'], drop_first=True)\n",
        "\n",
        "   \n",
        "\n",
        "    # ===== Select Final Features =====\n",
        "    keep_columns = [\n",
        "        'age', 'age_squared', 'sex_encoded', 'bmi', 'children',\n",
        "        'smoker_encoded', 'is_overweight', 'smoker_bmi_risk',\n",
        "        'age_bmi_risk', 'risk_score'\n",
        "    ]\n",
        "    encoded_columns = [col for col in df.columns if col.startswith('region_') or\n",
        "                       col.startswith('age_group_') or col.startswith('bmi_class_')]\n",
        "\n",
        "    df_processed = df[keep_columns + encoded_columns + ['charges']]\n",
        "\n",
        "    return df_processed"
      ]
    },
    {
      "cell_type": "code",
      "execution_count": 11,
      "metadata": {},
      "outputs": [
        {
          "name": "stdout",
          "output_type": "stream",
          "text": [
            "   age  age_squared  sex_encoded     bmi  children  smoker_encoded  \\\n",
            "0   19          361            0  27.900         0               1   \n",
            "1   18          324            1  33.770         1               0   \n",
            "2   28          784            1  33.000         3               0   \n",
            "3   33         1089            1  22.705         0               0   \n",
            "4   32         1024            1  28.880         0               0   \n",
            "\n",
            "   is_overweight  smoker_bmi_risk  age_bmi_risk  risk_score  region_northwest  \\\n",
            "0              1             27.9       5.30100          65             False   \n",
            "1              1              0.0       6.07860          35             False   \n",
            "2              1              0.0       9.24000          45             False   \n",
            "3              0              0.0       7.49265           0              True   \n",
            "4              1              0.0       9.24160          15              True   \n",
            "\n",
            "   region_southeast  region_southwest  age_group_Adult  age_group_Middle-aged  \\\n",
            "0             False              True            False                  False   \n",
            "1              True             False            False                  False   \n",
            "2              True             False             True                  False   \n",
            "3             False             False             True                  False   \n",
            "4             False             False             True                  False   \n",
            "\n",
            "   age_group_Senior  bmi_class_Normal  bmi_class_Overweight  bmi_class_Obese  \\\n",
            "0             False             False                  True            False   \n",
            "1             False             False                 False             True   \n",
            "2             False             False                 False             True   \n",
            "3             False              True                 False            False   \n",
            "4             False             False                  True            False   \n",
            "\n",
            "       charges  \n",
            "0  16884.92400  \n",
            "1   1725.55230  \n",
            "2   4449.46200  \n",
            "3  21984.47061  \n",
            "4   3866.85520  \n"
          ]
        }
      ],
      "source": [
        "df_processed = prepare_features_for_modeling(df)\n",
        "\n",
        "# View ready-to-model features\n",
        "print(df_processed.head())"
      ]
    },
    {
      "cell_type": "markdown",
      "metadata": {},
      "source": [
        "**Encoding categorical variables:**\n",
        "* Convert categorical variables into numerical format using techniques like one-hot encoding or label encoding.\n",
        "* Drop original categorical columns after encoding to avoid redundancy.\n",
        "  \n",
        "**Numerical transformations:**\n",
        "* Apply scaling to numerical features to better perform in linear models."
      ]
    },
    {
      "cell_type": "markdown",
      "metadata": {},
      "source": [
        "---"
      ]
    },
    {
      "cell_type": "markdown",
      "metadata": {
        "id": "ltNetd085qHf"
      },
      "source": [
        "# Push files to Repo"
      ]
    },
    {
      "cell_type": "markdown",
      "metadata": {},
      "source": [
        "* In case you don't need to push files to Repo, you may replace this section with \"Conclusions and Next Steps\" and state your conclusions and next steps."
      ]
    },
    {
      "cell_type": "code",
      "execution_count": 10,
      "metadata": {
        "id": "aKlnIozA4eQO",
        "outputId": "fd09bc1f-adb1-4511-f6ce-492a6af570c0"
      },
      "outputs": [],
      "source": [
        "import os\n",
        "try:\n",
        "  os.makedirs(name='outputs/datasets/engineered', exist_ok=True)\n",
        "except Exception as e:\n",
        "  print(e)\n",
        "\n",
        "df_processed.to_csv('outputs/datasets/engineered/insurance_engineered.csv', index=False)\n"
      ]
    },
    {
      "cell_type": "markdown",
      "metadata": {},
      "source": [
        "# Conclusions and Next Steps\n",
        "\n",
        "## Conclusions\n",
        "* We have successfully engineered new features from the existing dataset.\n",
        "\n",
        "# Next Steps\n",
        "* We can now proceed to model training and evaluation using the enhanced dataset."
      ]
    }
  ],
  "metadata": {
    "accelerator": "GPU",
    "colab": {
      "name": "Data Practitioner Jupyter Notebook.ipynb",
      "provenance": [],
      "toc_visible": true
    },
    "kernelspec": {
      "display_name": "Python 3",
      "language": "python",
      "name": "python3"
    },
    "language_info": {
      "codemirror_mode": {
        "name": "ipython",
        "version": 3
      },
      "file_extension": ".py",
      "mimetype": "text/x-python",
      "name": "python",
      "nbconvert_exporter": "python",
      "pygments_lexer": "ipython3",
      "version": "3.12.1"
    },
    "orig_nbformat": 2
  },
  "nbformat": 4,
  "nbformat_minor": 2
}
