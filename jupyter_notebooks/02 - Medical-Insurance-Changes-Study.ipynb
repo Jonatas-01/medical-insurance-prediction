{
  "cells": [
    {
      "cell_type": "markdown",
      "metadata": {
        "id": "0aStgWSO0E0E"
      },
      "source": [
        "# **Medical Insurance Charges Study**"
      ]
    },
    {
      "cell_type": "markdown",
      "metadata": {
        "id": "1eLEkw5O0ECa"
      },
      "source": [
        "## Objectives\n",
        "\n",
        "* Answer business requirements 1:\n",
        "  * The client wants to understand the factors that influence medical insurance charges, so they can learn the most relevant factors and how they affect the charges.\n",
        "\n",
        "## Inputs\n",
        "\n",
        "* output/datasets/colletion/medical_insurance_charges.csv\n",
        "\n",
        "## Outputs\n",
        "\n",
        "* EDA Report: Generate reports to summarize data distributions, correlations, and initial findings.\n",
        "* Visualizations that illustrate the relationships between the variables and the medical insurance charges, such as scatter plots, box plots, and histograms. \n",
        "\n",
        "## Additional Comments\n",
        "\n",
        "* This is the first step in the analysis, focusing on exploratory data analysis (EDA) to understand the dataset and identify key factors influencing medical insurance charges.\n"
      ]
    },
    {
      "cell_type": "markdown",
      "metadata": {
        "id": "9uWZXH9LwoQg"
      },
      "source": [
        "---"
      ]
    },
    {
      "cell_type": "markdown",
      "metadata": {
        "id": "cqP-UeN-z3i2"
      },
      "source": [
        "# Change working directory"
      ]
    },
    {
      "cell_type": "markdown",
      "metadata": {},
      "source": [
        "* We are assuming you will store the notebooks in a subfolder, therefore when running the notebook in the editor, you will need to change the working directory"
      ]
    },
    {
      "cell_type": "markdown",
      "metadata": {
        "id": "aOGIGS-uz3i2"
      },
      "source": [
        "We need to change the working directory from its current folder to its parent folder\n",
        "* We access the current directory with os.getcwd()"
      ]
    },
    {
      "cell_type": "code",
      "execution_count": null,
      "metadata": {
        "id": "wZfF_j-Bz3i4",
        "outputId": "66943449-1436-4c3d-85c7-b85f9f78349b"
      },
      "outputs": [],
      "source": [
        "import os\n",
        "current_dir = os.getcwd()\n",
        "current_dir"
      ]
    },
    {
      "cell_type": "markdown",
      "metadata": {
        "id": "9MWW8E7lz3i7"
      },
      "source": [
        "We want to make the parent of the current directory the new current directory\n",
        "* os.path.dirname() gets the parent directory\n",
        "* os.chir() defines the new current directory"
      ]
    },
    {
      "cell_type": "code",
      "execution_count": null,
      "metadata": {
        "id": "TwHsQRWjz3i9",
        "outputId": "86849db3-cd2f-4cc5-ebb8-2d0caafa1a2c"
      },
      "outputs": [],
      "source": [
        "os.chdir(os.path.dirname(current_dir))\n",
        "print(\"You set a new current directory\")"
      ]
    },
    {
      "cell_type": "markdown",
      "metadata": {
        "id": "M_xPk_Ijz3i-"
      },
      "source": [
        "Confirm the new current directory"
      ]
    },
    {
      "cell_type": "code",
      "execution_count": null,
      "metadata": {
        "id": "vz3S-_kjz3jA",
        "outputId": "00b79ae4-75d0-4a96-d193-ac9ef9847ea2"
      },
      "outputs": [],
      "source": [
        "current_dir = os.getcwd()\n",
        "current_dir"
      ]
    },
    {
      "cell_type": "markdown",
      "metadata": {
        "id": "-mavJ8DibrcQ"
      },
      "source": [
        "# Load Dataset"
      ]
    },
    {
      "cell_type": "code",
      "execution_count": null,
      "metadata": {},
      "outputs": [],
      "source": [
        "import pandas as pd\n",
        "df = pd.read_csv('outputs/datasets/collection/insurance.csv')\n",
        "df.head(10)"
      ]
    },
    {
      "cell_type": "markdown",
      "metadata": {
        "id": "ZY3l0-AxO93d"
      },
      "source": [
        "---"
      ]
    },
    {
      "cell_type": "markdown",
      "metadata": {
        "id": "uFQo3ycuO-v6"
      },
      "source": [
        "# Understand the dataset"
      ]
    },
    {
      "cell_type": "code",
      "execution_count": null,
      "metadata": {},
      "outputs": [],
      "source": [
        "# importing libraries\n",
        "import matplotlib.pyplot as plt\n",
        "import seaborn as sns"
      ]
    },
    {
      "cell_type": "markdown",
      "metadata": {},
      "source": [
        "Let's see how charges are distributed according to the different variables in the dataset."
      ]
    },
    {
      "cell_type": "code",
      "execution_count": null,
      "metadata": {},
      "outputs": [],
      "source": [
        "sns.set_theme(style='whitegrid')\n",
        "f, ax = plt.subplots(1,1, figsize=(12, 8))\n",
        "ax = sns.histplot(df['charges'], kde = True, color = 'c', kde_kws=dict(cut=3))\n",
        "plt.title('Distribution of Charges')"
      ]
    },
    {
      "cell_type": "code",
      "execution_count": null,
      "metadata": {},
      "outputs": [],
      "source": [
        "plt.figure(figsize=(8, 6))\n",
        "sns.scatterplot(data=df, x='age', y='charges', alpha=0.5)\n",
        "plt.title('Distribution of Charges by age')\n",
        "plt.xlabel('Age')\n",
        "plt.ylabel('Charges')\n"
      ]
    },
    {
      "cell_type": "code",
      "execution_count": null,
      "metadata": {},
      "outputs": [],
      "source": [
        "charges = df['charges'].groupby(df['sex']).mean()\n",
        "f, ax = plt.subplots(1,1, figsize=(8, 6))\n",
        "ax = sns.barplot(x=charges.index, y=charges.values)\n",
        "plt.title('Average Charges by Sex')\n",
        "\n",
        "df['sex'].value_counts()"
      ]
    },
    {
      "cell_type": "code",
      "execution_count": null,
      "metadata": {},
      "outputs": [],
      "source": [
        "plt.figure(figsize=(8, 6))\n",
        "sns.scatterplot(data=df, x='bmi', y='charges', alpha=0.5)\n",
        "plt.title('Distribution of Charges by BMI')\n",
        "plt.xlabel('BMI')\n",
        "plt.ylabel('Charges')"
      ]
    },
    {
      "cell_type": "code",
      "execution_count": null,
      "metadata": {},
      "outputs": [],
      "source": [
        "charges = df['charges'].groupby(df['children']).mean()\n",
        "f, ax = plt.subplots(1,1, figsize=(8, 6))\n",
        "ax = sns.barplot(x=charges.index, y=charges.values)\n",
        "plt.title('Average Charges by Children')\n",
        "\n",
        "df['children'].value_counts()"
      ]
    },
    {
      "cell_type": "code",
      "execution_count": null,
      "metadata": {},
      "outputs": [],
      "source": [
        "charges = df['charges'].groupby(df['region']).mean()\n",
        "f, ax = plt.subplots(1,1, figsize=(8, 6))\n",
        "ax = sns.barplot(x=charges.index, y=charges.values)\n",
        "plt.title('Average Charges by Region')\n",
        "\n",
        "df['region'].value_counts()"
      ]
    },
    {
      "cell_type": "code",
      "execution_count": null,
      "metadata": {},
      "outputs": [],
      "source": [
        "charges = df['charges'].groupby(df['smoker']).mean()\n",
        "f, ax = plt.subplots(1,1, figsize=(8, 6))\n",
        "ax = sns.barplot(x=charges.index, y=charges.values)\n",
        "plt.title('Average Charges by Smoker')\n",
        "\n",
        "df['smoker'].value_counts()"
      ]
    },
    {
      "cell_type": "markdown",
      "metadata": {},
      "source": [
        "---"
      ]
    },
    {
      "cell_type": "markdown",
      "metadata": {},
      "source": [
        "# Correlation Analysis"
      ]
    },
    {
      "cell_type": "markdown",
      "metadata": {},
      "source": [
        "Correlation measures the strength and direction of a linear relationship between two numerical variables.\n",
        "* Values range from -1 to 1.\n",
        "    * +1: Strong positive correlation (e.g., as age increases, charges increase).\n",
        "    * -1: Strong negative correlation.\n",
        "    * 0: No correlation.\n",
        "\n",
        "We’ll use Pearson correlation\n",
        "\n"
      ]
    },
    {
      "cell_type": "code",
      "execution_count": null,
      "metadata": {},
      "outputs": [],
      "source": [
        "# Convert categorical variables to numeric to compute correlation\n",
        "df_encoded = df.copy()\n",
        "df_encoded['sex'] = df_encoded['sex'].map({'male': 1, 'female': 0})\n",
        "df_encoded['smoker'] = df_encoded['smoker'].map({'yes': 1, 'no': 0})\n",
        "df_encoded['region'] = df_encoded['region'].astype('category').cat.codes\n",
        "\n",
        "# Correlation matrix\n",
        "correlation = df_encoded.corr()\n",
        "\n",
        "print(\"Correlation with Charges:\")\n",
        "print(correlation['charges'].sort_values(ascending=False))\n",
        "\n",
        "# Heatmap\n",
        "plt.figure(figsize=(10, 8))\n",
        "sns.heatmap(correlation, annot=True, cmap='coolwarm', fmt=\".2f\")\n",
        "plt.title('Correlation Heatmap')\n",
        "plt.tight_layout()\n",
        "plt.show()"
      ]
    },
    {
      "cell_type": "markdown",
      "metadata": {},
      "source": [
        "---"
      ]
    },
    {
      "cell_type": "markdown",
      "metadata": {},
      "source": [
        "# Conclusions and Next Steps\n",
        "## Conclusions\n",
        "\n",
        "* Smoker status is the strongest driver of high insurance charges\n",
        "    *  Both correlation analysis and visualizations (boxplots, scatterplots) clearly show that smokers have significantly higher charges.\n",
        "    * Pearson correlation between smoker and charges is very high (~0.79), confirming this is a critical risk factor.\n",
        "* Age positively influences insurance costs\n",
        "    * Correlation of ~0.3 indicates a moderate positive relationship.\n",
        "    * Boxplots show that older age groups tend to have higher charges.\n",
        "* BMI influences charges\n",
        "    * Correlation of ~0.2 suggests a weak positive relationship.\n",
        "    * Boxplots show that higher BMI groups tend to have higher charges, but the effect is less pronounced than age or smoking status\n",
        "* Number of children, region, and sex have little to no impact on charges\n",
        "    * These features showed weak or near-zero correlation with charges.\n",
        "    * Their visual distributions (boxplots) confirmed a minimal effect, suggesting they might not add much predictive value to a model.\n",
        "  \n",
        "## Next Steps\n",
        "\n",
        "* Data Cleaning\n",
        "* Feature Engineering\n",
        "* Data Preprocessing\n",
        "* Model Development\n",
        "* Model Evaluation"
      ]
    },
    {
      "cell_type": "markdown",
      "metadata": {},
      "source": [
        "---"
      ]
    }
  ],
  "metadata": {
    "accelerator": "GPU",
    "colab": {
      "name": "Data Practitioner Jupyter Notebook.ipynb",
      "provenance": [],
      "toc_visible": true
    },
    "kernelspec": {
      "display_name": "Python 3",
      "language": "python",
      "name": "python3"
    },
    "language_info": {
      "codemirror_mode": {
        "name": "ipython",
        "version": 3
      },
      "file_extension": ".py",
      "mimetype": "text/x-python",
      "name": "python",
      "nbconvert_exporter": "python",
      "pygments_lexer": "ipython3",
      "version": "3.12.1"
    },
    "orig_nbformat": 2
  },
  "nbformat": 4,
  "nbformat_minor": 2
}
